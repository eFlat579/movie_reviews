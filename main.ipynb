{
 "cells": [
  {
   "cell_type": "code",
   "execution_count": 3,
   "metadata": {},
   "outputs": [],
   "source": [
    "import numpy as np\n",
    "import pandas as pd\n",
    "import os"
   ]
  },
  {
   "cell_type": "markdown",
   "metadata": {},
   "source": [
    "We first need to load the data into test and train"
   ]
  },
  {
   "cell_type": "code",
   "execution_count": 26,
   "metadata": {},
   "outputs": [],
   "source": [
    "train_dir = 'import/aclImdb/train'\n",
    "test_dir = 'import/aclImdb/test'\n",
    "labels = ['neg', 'pos']"
   ]
  },
  {
   "cell_type": "code",
   "execution_count": 27,
   "metadata": {},
   "outputs": [],
   "source": [
    "def process_reviews(label, folder):\n",
    "    data = []\n",
    "    for file in os.listdir(folder):\n",
    "        with open(f'{folder}/{file}', 'r', encoding='utf-8') as f:\n",
    "            # parse filename to get rating\n",
    "            _, rating = file.replace('.txt', '').split('_')\n",
    "            data.append([rating, f.read(), label])\n",
    "    return data\n",
    "\n",
    "# all train reviews\n",
    "train_content = []\n",
    "for f in os.listdir(train_dir):\n",
    "    if f in labels:\n",
    "        train_content += process_reviews(f, f'{train_dir}/{f}')\n",
    "\n",
    "# all test reviews\n",
    "test_content = []\n",
    "for f in os.listdir(test_dir):\n",
    "    if f in labels:\n",
    "        test_content += process_reviews(f, f'{test_dir}/{f}')"
   ]
  }
 ],
 "metadata": {
  "kernelspec": {
   "display_name": "base",
   "language": "python",
   "name": "python3"
  },
  "language_info": {
   "codemirror_mode": {
    "name": "ipython",
    "version": 3
   },
   "file_extension": ".py",
   "mimetype": "text/x-python",
   "name": "python",
   "nbconvert_exporter": "python",
   "pygments_lexer": "ipython3",
   "version": "3.11.3"
  }
 },
 "nbformat": 4,
 "nbformat_minor": 2
}
